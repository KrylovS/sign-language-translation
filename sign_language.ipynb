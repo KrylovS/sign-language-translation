{
  "nbformat": 4,
  "nbformat_minor": 0,
  "metadata": {
    "colab": {
      "name": "sign_language.ipynb",
      "provenance": [],
      "collapsed_sections": []
    },
    "kernelspec": {
      "name": "python3",
      "display_name": "Python 3"
    },
    "accelerator": "GPU"
  },
  "cells": [
    {
      "cell_type": "code",
      "metadata": {
        "id": "NMMGZljoouiu",
        "colab_type": "code",
        "colab": {}
      },
      "source": [
        "!pip install tensorflow==2.0.0"
      ],
      "execution_count": 0,
      "outputs": []
    },
    {
      "cell_type": "code",
      "metadata": {
        "id": "w1SCNgZ8hmGR",
        "colab_type": "code",
        "colab": {}
      },
      "source": [
        "import numpy as np\n",
        "import pandas as pd\n",
        "import matplotlib.pyplot as plt"
      ],
      "execution_count": 0,
      "outputs": []
    },
    {
      "cell_type": "code",
      "metadata": {
        "id": "NmwKFDoC5Vic",
        "colab_type": "code",
        "colab": {}
      },
      "source": [
        "!wget --no-check-certificate \\\n",
        "    https://raw.githubusercontent.com/KrylovS/sign-language-translation/master/content/sign_mnist_train.csv \\\n",
        "    -O /content/sign_mnist_train.csv\n",
        "\n",
        "!wget --no-check-certificate \\\n",
        "    https://raw.githubusercontent.com/KrylovS/sign-language-translation/master/content/sign_mnist_test.csv \\\n",
        "    -O /content/sign_mnist_test.csv"
      ],
      "execution_count": 0,
      "outputs": []
    },
    {
      "cell_type": "code",
      "metadata": {
        "id": "CrUogJ22qcED",
        "colab_type": "code",
        "colab": {}
      },
      "source": [
        "train_df = pd.read_csv('/content/sign_mnist_train.csv')\n",
        "test_df = pd.read_csv('/content/sign_mnist_test.csv')"
      ],
      "execution_count": 0,
      "outputs": []
    },
    {
      "cell_type": "code",
      "metadata": {
        "id": "A0SJqphPsHiy",
        "colab_type": "code",
        "colab": {}
      },
      "source": [
        "train_df.head()"
      ],
      "execution_count": 0,
      "outputs": []
    },
    {
      "cell_type": "code",
      "metadata": {
        "id": "nTbPYRy2sSLq",
        "colab_type": "code",
        "colab": {}
      },
      "source": [
        "labels = train_df['label'].to_numpy()"
      ],
      "execution_count": 0,
      "outputs": []
    },
    {
      "cell_type": "code",
      "metadata": {
        "id": "Jqf2E39ew2fl",
        "colab_type": "code",
        "colab": {}
      },
      "source": [
        "labels_list = np.unique(labels).tolist()"
      ],
      "execution_count": 0,
      "outputs": []
    },
    {
      "cell_type": "code",
      "metadata": {
        "id": "2v9HFGvRs2D5",
        "colab_type": "code",
        "colab": {}
      },
      "source": [
        "labels_to_chars = {i : chr(ord('a') + i) for i in labels_list}"
      ],
      "execution_count": 0,
      "outputs": []
    },
    {
      "cell_type": "code",
      "metadata": {
        "id": "S3XF2euFs8md",
        "colab_type": "code",
        "colab": {}
      },
      "source": [
        "train = train_df.drop('label', axis=1).to_numpy()"
      ],
      "execution_count": 0,
      "outputs": []
    },
    {
      "cell_type": "code",
      "metadata": {
        "id": "D0fSI0VttWlm",
        "colab_type": "code",
        "colab": {}
      },
      "source": [
        "plt.imshow(train[0].reshape(28,28))"
      ],
      "execution_count": 0,
      "outputs": []
    },
    {
      "cell_type": "code",
      "metadata": {
        "id": "Jzz2h11MtaZT",
        "colab_type": "code",
        "colab": {}
      },
      "source": [
        "def plot_images(original_img, labels, images_count, labels_to_chars):\n",
        "  plt.figure(figsize=(20, 5))\n",
        "  for i in range(images_count): \n",
        "      ax = plt.subplot(1, images_count, i + 1)\n",
        "      ax.title.set_text(labels_to_chars[labels[i]])\n",
        "      plt.imshow(original_img[i].reshape(28, 28))\n",
        "      plt.gray()\n",
        "      plt.axis('off')\n",
        "  plt.show()\n",
        "  "
      ],
      "execution_count": 0,
      "outputs": []
    },
    {
      "cell_type": "code",
      "metadata": {
        "id": "gBIXDebXuU5_",
        "colab_type": "code",
        "colab": {}
      },
      "source": [
        "plot_images(train, labels, 5, labels_to_chars)"
      ],
      "execution_count": 0,
      "outputs": []
    },
    {
      "cell_type": "code",
      "metadata": {
        "id": "ia8QNeFuTCan",
        "colab_type": "code",
        "colab": {}
      },
      "source": [
        "from sklearn.preprocessing import LabelBinarizer\n",
        "label_binrizer = LabelBinarizer()\n",
        "labels_enc = label_binrizer.fit_transform(labels)"
      ],
      "execution_count": 0,
      "outputs": []
    },
    {
      "cell_type": "code",
      "metadata": {
        "id": "FlBHPI83yzoj",
        "colab_type": "code",
        "colab": {}
      },
      "source": [
        "from sklearn.model_selection import train_test_split\n",
        "x_train, x_val, y_train, y_val = train_test_split(train, labels_enc, \n",
        "                                                    test_size = 0.3, random_state = 13)"
      ],
      "execution_count": 0,
      "outputs": []
    },
    {
      "cell_type": "code",
      "metadata": {
        "id": "y27kP3bvOrAd",
        "colab_type": "code",
        "colab": {}
      },
      "source": [
        "y_train.shape"
      ],
      "execution_count": 0,
      "outputs": []
    },
    {
      "cell_type": "code",
      "metadata": {
        "id": "v0-KsKOIBG9l",
        "colab_type": "code",
        "colab": {}
      },
      "source": [
        "x_train = x_train.reshape(x_train.shape[0], 28, 28, 1) / 255\n",
        "x_val = x_val.reshape(x_val.shape[0], 28, 28, 1) / 255"
      ],
      "execution_count": 0,
      "outputs": []
    },
    {
      "cell_type": "code",
      "metadata": {
        "id": "aLi9jJklPKC1",
        "colab_type": "code",
        "colab": {}
      },
      "source": [
        "x_train.shape"
      ],
      "execution_count": 0,
      "outputs": []
    },
    {
      "cell_type": "code",
      "metadata": {
        "id": "av3EUJ2JH4f7",
        "colab_type": "code",
        "colab": {}
      },
      "source": [
        "#!pip install tensorflow==1.15.0\n",
        "!pip install tensorflow==2.0.0"
      ],
      "execution_count": 0,
      "outputs": []
    },
    {
      "cell_type": "code",
      "metadata": {
        "id": "L1u8zbk2zvHb",
        "colab_type": "code",
        "colab": {}
      },
      "source": [
        "import tensorflow as tf"
      ],
      "execution_count": 0,
      "outputs": []
    },
    {
      "cell_type": "code",
      "metadata": {
        "id": "P-Ns821W0Bj5",
        "colab_type": "code",
        "colab": {}
      },
      "source": [
        "tf.__version__"
      ],
      "execution_count": 0,
      "outputs": []
    },
    {
      "cell_type": "code",
      "metadata": {
        "id": "UpYBdzgR0LiU",
        "colab_type": "code",
        "colab": {}
      },
      "source": [
        "from tensorflow.keras.layers import Dense, Flatten, Conv2D, MaxPooling2D, Dropout, Reshape\n",
        "from tensorflow.keras import Model"
      ],
      "execution_count": 0,
      "outputs": []
    },
    {
      "cell_type": "code",
      "metadata": {
        "id": "3ifTKbReEH0d",
        "colab_type": "code",
        "colab": {}
      },
      "source": [
        "model = tf.keras.models.load_model(\"/content/simplemodel2.h5\")"
      ],
      "execution_count": 0,
      "outputs": []
    },
    {
      "cell_type": "code",
      "metadata": {
        "id": "L76CXeUb0qwt",
        "colab_type": "code",
        "colab": {}
      },
      "source": [
        "model1 = tf.keras.models.Sequential([\n",
        "                                    #Reshape((28, 28, 1), input_shape=(784,)),\n",
        "                                    Conv2D(32, (3,3), activation = 'relu', input_shape=(28,28,1)),\n",
        "                                    MaxPooling2D(2, 2),\n",
        "\n",
        "                                    Conv2D(64, (3,3), activation = 'relu'),\n",
        "                                    MaxPooling2D(2, 2),\n",
        "\n",
        "                                    Conv2D(128, (3,3), activation = 'relu'),\n",
        "                                    MaxPooling2D(2, 2),\n",
        "\n",
        "                                    Flatten(),\n",
        "                                    Dense(128, activation = 'relu'),\n",
        "                                    Dropout(0.2),\n",
        "                                    Dense(24, activation = 'softmax')\n",
        "])"
      ],
      "execution_count": 0,
      "outputs": []
    },
    {
      "cell_type": "code",
      "metadata": {
        "id": "YK5RTUmL6FZZ",
        "colab_type": "code",
        "colab": {}
      },
      "source": [
        "model2 = tf.keras.models.Sequential([\n",
        "                                    #Reshape((28, 28, 1), input_shape=(784,)),\n",
        "                                    Conv2D(32, (3,3), activation = 'relu', input_shape=(28,28,1), padding = \"same\"),\n",
        "                                    MaxPooling2D(2, 2),\n",
        "\n",
        "                                    Conv2D(64, (3,3), activation = 'relu', padding = \"same\"),\n",
        "                                    Dropout(0.2),\n",
        "                                    MaxPooling2D(2, 2),\n",
        "\n",
        "                                    Conv2D(128, (3,3), activation = 'relu', padding = \"same\"),\n",
        "                                    Dropout(0.2), \n",
        "                                    MaxPooling2D(2, 2),\n",
        "                                     \n",
        "                                    Conv2D(128, (3,3), activation = 'relu', padding = \"same\"),\n",
        "                                    Dropout(0.2), \n",
        "                                    MaxPooling2D(2, 2),\n",
        "\n",
        "                                    Flatten(),\n",
        "                                    Dense(128, activation = 'relu'),\n",
        "                                    Dropout(0.2),\n",
        "                                    Dense(24, activation = 'softmax')\n",
        "])"
      ],
      "execution_count": 0,
      "outputs": []
    },
    {
      "cell_type": "code",
      "metadata": {
        "id": "kgb97cSm2cSt",
        "colab_type": "code",
        "colab": {}
      },
      "source": [
        "#model = model1\n",
        "#model1.summary()\n",
        "model = model2\n",
        "model.summary()"
      ],
      "execution_count": 0,
      "outputs": []
    },
    {
      "cell_type": "code",
      "metadata": {
        "id": "zcRxTZ-v90a_",
        "colab_type": "code",
        "colab": {}
      },
      "source": [
        "class userCallback(tf.keras.callbacks.Callback):\n",
        "  def on_epoch_end(self, epoch, logs={}):\n",
        "    if (logs.get('accuracy') > 0.999):\n",
        "      print(\"\\n Reached accuracy. Stop trainning!\")\n",
        "      self.model.stop_training = True"
      ],
      "execution_count": 0,
      "outputs": []
    },
    {
      "cell_type": "code",
      "metadata": {
        "id": "qaTblZcL-4sp",
        "colab_type": "code",
        "colab": {}
      },
      "source": [
        "callback = userCallback()\n",
        "batch_size = 256\n",
        "epochs = 20"
      ],
      "execution_count": 0,
      "outputs": []
    },
    {
      "cell_type": "code",
      "metadata": {
        "id": "2UxJYbllR6Vc",
        "colab_type": "code",
        "colab": {}
      },
      "source": [
        "model.compile(loss = 'categorical_crossentropy', optimizer='rmsprop', metrics=['accuracy'])\n",
        "history = model.fit(x_train, y_train, epochs = epochs, validation_data = (x_val, y_val),\n",
        "                    callbacks = [callback], batch_size = batch_size)"
      ],
      "execution_count": 0,
      "outputs": []
    },
    {
      "cell_type": "code",
      "metadata": {
        "id": "qQYPL2b4_kpx",
        "colab_type": "code",
        "colab": {}
      },
      "source": [
        "acc_train = history.history['accuracy']\n",
        "acc_val = history.history['val_accuracy']\n",
        "epochs = range(len(acc_train))\n",
        "\n",
        "plt.plot(epochs, acc_train)\n",
        "plt.plot(epochs, acc_val)\n",
        "plt.legend(['train','val'])\n",
        "plt.show()"
      ],
      "execution_count": 0,
      "outputs": []
    },
    {
      "cell_type": "code",
      "metadata": {
        "id": "UMXakiLLY1jK",
        "colab_type": "code",
        "colab": {}
      },
      "source": [
        "from sklearn.metrics import accuracy_score, f1_score"
      ],
      "execution_count": 0,
      "outputs": []
    },
    {
      "cell_type": "code",
      "metadata": {
        "id": "aGaGLMSGZzzj",
        "colab_type": "code",
        "colab": {}
      },
      "source": [
        "labels_test = test_df['label'].to_numpy()\n",
        "x_test = test_df.drop('label', axis = 1).to_numpy()\n",
        "x_test = x_test.reshape(x_test.shape[0], 28, 28, 1) / 255"
      ],
      "execution_count": 0,
      "outputs": []
    },
    {
      "cell_type": "code",
      "metadata": {
        "id": "Amev4ApuaEOg",
        "colab_type": "code",
        "colab": {}
      },
      "source": [
        "label_binrizer = LabelBinarizer()\n",
        "labels_test_enc = label_binrizer.fit_transform(labels_test)"
      ],
      "execution_count": 0,
      "outputs": []
    },
    {
      "cell_type": "code",
      "metadata": {
        "id": "dbwxVvNaY-iH",
        "colab_type": "code",
        "colab": {}
      },
      "source": [
        "pred = model.predict(x_test)"
      ],
      "execution_count": 0,
      "outputs": []
    },
    {
      "cell_type": "code",
      "metadata": {
        "id": "_sHeJ2OvZC7V",
        "colab_type": "code",
        "colab": {}
      },
      "source": [
        "accuracy_score(labels_test_enc, pred.round())"
      ],
      "execution_count": 0,
      "outputs": []
    },
    {
      "cell_type": "code",
      "metadata": {
        "id": "vkH1GZhQQgN7",
        "colab_type": "code",
        "colab": {}
      },
      "source": [
        "f1_score(labels_test_enc, pred.round(),average = 'weighted')"
      ],
      "execution_count": 0,
      "outputs": []
    },
    {
      "cell_type": "code",
      "metadata": {
        "id": "a1KJhQbtCZvL",
        "colab_type": "code",
        "colab": {}
      },
      "source": [
        "model.save(\"simplemodel3.h5\")"
      ],
      "execution_count": 0,
      "outputs": []
    },
    {
      "cell_type": "code",
      "metadata": {
        "id": "j7cEN_cHEei_",
        "colab_type": "code",
        "colab": {}
      },
      "source": [
        ""
      ],
      "execution_count": 0,
      "outputs": []
    },
    {
      "cell_type": "code",
      "metadata": {
        "id": "Tbhaa7BKbkfN",
        "colab_type": "code",
        "colab": {}
      },
      "source": [
        "#model = applications.VGG19(weights = \"imagenet\", include_top=False, input_shape = (32, 32, 3))\n"
      ],
      "execution_count": 0,
      "outputs": []
    },
    {
      "cell_type": "code",
      "metadata": {
        "id": "KRz-KiTqdr8I",
        "colab_type": "code",
        "colab": {}
      },
      "source": [
        "x_train.shape"
      ],
      "execution_count": 0,
      "outputs": []
    },
    {
      "cell_type": "code",
      "metadata": {
        "id": "IQEL36KRfScp",
        "colab_type": "code",
        "colab": {}
      },
      "source": [
        "x_train.reshape(x_train.shape[0],28,28).shape"
      ],
      "execution_count": 0,
      "outputs": []
    },
    {
      "cell_type": "code",
      "metadata": {
        "id": "cbBeXR4Gle_C",
        "colab_type": "code",
        "colab": {}
      },
      "source": [
        "def prepare_for_model(x):\n",
        "  x = x.reshape(x.shape[0],28,28) / 255\n",
        "  x = np.pad(x, ((0, 0),(2, 2),(2, 2)), constant_values=0)\n",
        "  x = np.repeat(x[:, :, :, np.newaxis], 3, axis=3)\n",
        "  return x"
      ],
      "execution_count": 0,
      "outputs": []
    },
    {
      "cell_type": "code",
      "metadata": {
        "id": "nGHBWvaqeAyP",
        "colab_type": "code",
        "colab": {}
      },
      "source": [
        "from sklearn.model_selection import train_test_split\n",
        "x_train, x_val, y_train, y_val = train_test_split(train, labels_enc, \n",
        "                                                    test_size = 0.3, random_state = 13)\n",
        "\n",
        "x_train = prepare_for_model(x_train)\n",
        "x_val = prepare_for_model(x_val)"
      ],
      "execution_count": 0,
      "outputs": []
    },
    {
      "cell_type": "code",
      "metadata": {
        "id": "b6jZE6HheSzN",
        "colab_type": "code",
        "colab": {}
      },
      "source": [
        "x_train.shape"
      ],
      "execution_count": 0,
      "outputs": []
    },
    {
      "cell_type": "code",
      "metadata": {
        "id": "OEeYIF0HbvRz",
        "colab_type": "code",
        "colab": {}
      },
      "source": [
        "x_train = x_train.reshape(x_train.shape[0], 28, 28, 1) / 255\n",
        "x_val = x_val.reshape(x_val.shape[0], 28, 28, 1) / 255"
      ],
      "execution_count": 0,
      "outputs": []
    },
    {
      "cell_type": "code",
      "metadata": {
        "id": "jAeTyWtChM0b",
        "colab_type": "code",
        "colab": {}
      },
      "source": [
        "plt.imshow(b[0,:,:,0])"
      ],
      "execution_count": 0,
      "outputs": []
    },
    {
      "cell_type": "code",
      "metadata": {
        "id": "cJujiIIkjXZe",
        "colab_type": "code",
        "colab": {}
      },
      "source": [
        "import tensorflow.keras.applications as applications\n",
        "model = applications.resnet.ResNet50(weights = \"imagenet\", include_top=False, input_shape = (32, 32, 3))"
      ],
      "execution_count": 0,
      "outputs": []
    },
    {
      "cell_type": "code",
      "metadata": {
        "id": "nCpQl5C3YDG6",
        "colab_type": "code",
        "colab": {}
      },
      "source": [
        "model.summary()"
      ],
      "execution_count": 0,
      "outputs": []
    },
    {
      "cell_type": "code",
      "metadata": {
        "id": "md7NcDGCYGxh",
        "colab_type": "code",
        "colab": {}
      },
      "source": [
        "for layer in model.layers[:-4]:\n",
        "    layer.trainable = False"
      ],
      "execution_count": 0,
      "outputs": []
    },
    {
      "cell_type": "code",
      "metadata": {
        "id": "fN89UQofY4AD",
        "colab_type": "code",
        "colab": {}
      },
      "source": [
        "for layer in model.layers:\n",
        "    print(layer, layer.trainable)"
      ],
      "execution_count": 0,
      "outputs": []
    },
    {
      "cell_type": "code",
      "metadata": {
        "id": "MNbjwLiuY7WT",
        "colab_type": "code",
        "colab": {}
      },
      "source": [
        "x = model.output\n",
        "x = Flatten()(x)\n",
        "x = Dense(1024, activation=\"relu\")(x)\n",
        "x = Dropout(0.5)(x)\n",
        "x = Dense(128, activation=\"relu\")(x)\n",
        "predictions = Dense(24, activation=\"softmax\")(x)\n",
        "model = Model(inputs = model.inputs, outputs = predictions)\n",
        "model.compile(loss = 'categorical_crossentropy', optimizer='rmsprop', metrics=['accuracy'])"
      ],
      "execution_count": 0,
      "outputs": []
    },
    {
      "cell_type": "code",
      "metadata": {
        "id": "SAbNQGXOaie_",
        "colab_type": "code",
        "colab": {}
      },
      "source": [
        "model.summary()"
      ],
      "execution_count": 0,
      "outputs": []
    },
    {
      "cell_type": "code",
      "metadata": {
        "id": "VAdZnVsXZ3y6",
        "colab_type": "code",
        "colab": {}
      },
      "source": [
        "callback = userCallback()\n",
        "batch_size = 256\n",
        "epochs = 20"
      ],
      "execution_count": 0,
      "outputs": []
    },
    {
      "cell_type": "code",
      "metadata": {
        "id": "Ayr4dwXraFoD",
        "colab_type": "code",
        "colab": {}
      },
      "source": [
        "\n",
        "history = model.fit(x_train, y_train, epochs = epochs, validation_data = (x_val, y_val),\n",
        "                    callbacks = [callback], batch_size = batch_size)"
      ],
      "execution_count": 0,
      "outputs": []
    },
    {
      "cell_type": "code",
      "metadata": {
        "colab_type": "code",
        "id": "dB8xwY3dmSxB",
        "colab": {}
      },
      "source": [
        "from sklearn.metrics import accuracy_score, f1_score"
      ],
      "execution_count": 0,
      "outputs": []
    },
    {
      "cell_type": "code",
      "metadata": {
        "colab_type": "code",
        "id": "0hXFXjQhmSxT",
        "colab": {}
      },
      "source": [
        "labels_test = test_df['label'].to_numpy()\n",
        "x_test = test_df.drop('label', axis = 1).to_numpy()\n",
        "x_test = prepare_for_model(x_test)"
      ],
      "execution_count": 0,
      "outputs": []
    },
    {
      "cell_type": "code",
      "metadata": {
        "colab_type": "code",
        "id": "PkUAbuyVmSxa",
        "colab": {}
      },
      "source": [
        "label_binrizer = LabelBinarizer()\n",
        "labels_test_enc = label_binrizer.fit_transform(labels_test)"
      ],
      "execution_count": 0,
      "outputs": []
    },
    {
      "cell_type": "code",
      "metadata": {
        "colab_type": "code",
        "id": "3vsvbezMmSxk",
        "colab": {}
      },
      "source": [
        "pred = model.predict(x_test)"
      ],
      "execution_count": 0,
      "outputs": []
    }
  ]
}